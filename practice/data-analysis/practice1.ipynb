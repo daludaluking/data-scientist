{
 "cells": [
  {
   "cell_type": "code",
   "execution_count": 33,
   "metadata": {},
   "outputs": [
    {
     "name": "stdout",
     "output_type": "stream",
     "text": [
      "leh\n",
      "olleh\n",
      "olleh\n",
      "<reversed object at 0x000001EB1CE1AD60>\n"
     ]
    }
   ],
   "source": [
    "s1 = \"hello\"\n",
    "\n",
    "# step is -1 이면 step을 반대로 방향으로(오른쪽 -> 왼쫀)\n",
    "print(s1[-3::-1])\n",
    "print(s1[-1:-6:-1])\n",
    "print(s1[::-1])\n",
    "print(reversed(s1))"
   ]
  },
  {
   "cell_type": "code",
   "execution_count": 51,
   "metadata": {},
   "outputs": [
    {
     "name": "stdout",
     "output_type": "stream",
     "text": [
      "2 ['spam']s <class 'float'>\n",
      "[0, 1, 2, 3, 4, 5, 6, 7, 8, 9]\n"
     ]
    }
   ],
   "source": [
    "fruit = \"banana\"\n",
    "\n",
    "'n' in fruit\n",
    "\n",
    "a = 2\n",
    "b = \"spam\"\n",
    "c = 4.99\n",
    "\n",
    "print(f'{a} {b.split()}s {type(c)}')\n",
    "\n",
    "print(list(range(0, 10)))"
   ]
  },
  {
   "cell_type": "code",
   "execution_count": null,
   "metadata": {},
   "outputs": [],
   "source": []
  }
 ],
 "metadata": {
  "interpreter": {
   "hash": "29cf7461d37e091f9e47ba654d44aa25cb21942d8a90dc094f232963b7bd3e80"
  },
  "kernelspec": {
   "display_name": "Python 3.9.7 64-bit ('base': conda)",
   "language": "python",
   "name": "python3"
  },
  "language_info": {
   "codemirror_mode": {
    "name": "ipython",
    "version": 3
   },
   "file_extension": ".py",
   "mimetype": "text/x-python",
   "name": "python",
   "nbconvert_exporter": "python",
   "pygments_lexer": "ipython3",
   "version": "3.9.7"
  },
  "orig_nbformat": 4
 },
 "nbformat": 4,
 "nbformat_minor": 2
}
