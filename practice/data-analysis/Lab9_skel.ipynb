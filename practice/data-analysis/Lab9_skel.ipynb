{
  "cells": [
    {
      "cell_type": "markdown",
      "metadata": {
        "id": "QamGPSoYuUHr"
      },
      "source": [
        "# Data Preprocessing 1\n"
      ]
    },
    {
      "cell_type": "markdown",
      "metadata": {
        "id": "C1x_LoXoWmPo"
      },
      "source": [
        "**[실습 유의 사항]**\n",
        "\n",
        "https://docs.google.com/spreadsheets/d/1LufpYknSbN7179sVPreZ-hDJ7vHaZ1l64XMZeivjySQ/edit?usp=sharing\n",
        "\n",
        "공유한 파일에 실습 현황을 공유해 주세요. 수업 진행에 도움이 됩니다."
      ]
    },
    {
      "cell_type": "code",
      "execution_count": 176,
      "metadata": {
        "id": "3cwPLq9Dtoqb"
      },
      "outputs": [],
      "source": [
        "from sklearn import datasets, linear_model\n",
        "from sklearn import preprocessing\n",
        "import pandas as pd\n",
        "import matplotlib.pyplot as plt\n",
        "import seaborn as sns\n",
        "import numpy as np"
      ]
    },
    {
      "cell_type": "code",
      "execution_count": 194,
      "metadata": {},
      "outputs": [],
      "source": [
        "from statsmodels.stats.anova import anova_lm"
      ]
    },
    {
      "cell_type": "code",
      "execution_count": 2,
      "metadata": {
        "id": "5_1iprhkMogc"
      },
      "outputs": [],
      "source": [
        "plt.rc('font', family='Malgun Gothic')"
      ]
    },
    {
      "cell_type": "markdown",
      "metadata": {
        "id": "tIXGomH1RFQi"
      },
      "source": [
        "**문제1**"
      ]
    },
    {
      "cell_type": "markdown",
      "metadata": {
        "id": "O4DbO2WaUlV1"
      },
      "source": [
        "\n",
        "(1) subway.csv로 데이터 프레임을 생성합니다.\n",
        "\n",
        "- subway.csv은 2018년 지하철 시간별 승하차 인원의 데이터입니다.\n",
        "\n",
        "- swbway의 첫번 째 열을 사용하여 columns을 바꿔줍니다.\n",
        "- subway에서 첫번째 열을 제거합니다.\n",
        "- '날짜'열의 데이터를 'datetime' 자료형으로 바꿉니다.\n",
        "\n",
        "아래 데이터프레임을 참고해서 만들어주세요.\n",
        "\n",
        "아래 실습을 위해서 ['날짜','호선', '역명', '구분', '합 계'] 열만을 사용해서 데이터 프레임 (df)를 만들어주세요. 문제 1번은 df를 사용해 진행하면 좋습니다."
      ]
    },
    {
      "cell_type": "markdown",
      "metadata": {
        "id": "lIwfKF6AVB-z"
      },
      "source": [
        "\n",
        "(2) 데이터 프레임을 활용하여 승하차 인원이 제일 적은 지하철 호선을 찾아보세요.\n",
        "\n",
        "또, 호선에 따른 승하차 인원 그래프를 그려보세요. (디테일은 신경쓰지 않아도 됩니다.)"
      ]
    },
    {
      "cell_type": "markdown",
      "metadata": {
        "id": "n6_j8AafVWGG"
      },
      "source": [
        "(3) 승하차 인원이 가장 많은 날과 그날의 역을 찾아보세요."
      ]
    },
    {
      "cell_type": "markdown",
      "metadata": {
        "id": "KaAbd_2mVb9P"
      },
      "source": [
        "(4) 승차, 하차가 제일 많은 날,날짜,역을 찾아보세요."
      ]
    },
    {
      "cell_type": "markdown",
      "metadata": {
        "id": "aGAhwkKCWN31"
      },
      "source": [
        "(5) 전체역 중에 승하차 인원의 합이 가장 많은 역과 승하차 인원의 합을 구해보세요."
      ]
    },
    {
      "cell_type": "markdown",
      "metadata": {
        "id": "PcomFrgMWTg-"
      },
      "source": [
        "(6) 8호선에서 승하차 인원이 가장 많은 역을 찾아보세요."
      ]
    },
    {
      "cell_type": "markdown",
      "metadata": {
        "id": "1MaDlOJuWgl9"
      },
      "source": [
        "(7) 승하차 차이 분석하기, 승하차 차이가 가장 많이 나는 날과, 다음날은 찾아보세요.\n",
        "\n",
        "각 날은 무엇인가요? (검색을 통해서 찾아보세요.)"
      ]
    },
    {
      "cell_type": "code",
      "execution_count": 3,
      "metadata": {},
      "outputs": [
        {
          "data": {
            "text/html": [
              "<div>\n",
              "<style scoped>\n",
              "    .dataframe tbody tr th:only-of-type {\n",
              "        vertical-align: middle;\n",
              "    }\n",
              "\n",
              "    .dataframe tbody tr th {\n",
              "        vertical-align: top;\n",
              "    }\n",
              "\n",
              "    .dataframe thead th {\n",
              "        text-align: right;\n",
              "    }\n",
              "</style>\n",
              "<table border=\"1\" class=\"dataframe\">\n",
              "  <thead>\n",
              "    <tr style=\"text-align: right;\">\n",
              "      <th></th>\n",
              "      <th>날짜</th>\n",
              "      <th>호선</th>\n",
              "      <th>역번호</th>\n",
              "      <th>역명</th>\n",
              "      <th>구분</th>\n",
              "      <th>05~06</th>\n",
              "      <th>06~07</th>\n",
              "      <th>07~08</th>\n",
              "      <th>08~09</th>\n",
              "      <th>09~10</th>\n",
              "      <th>...</th>\n",
              "      <th>16~17</th>\n",
              "      <th>17~18</th>\n",
              "      <th>18~19</th>\n",
              "      <th>19~20</th>\n",
              "      <th>20~21</th>\n",
              "      <th>21~22</th>\n",
              "      <th>22~23</th>\n",
              "      <th>23~24</th>\n",
              "      <th>00~01</th>\n",
              "      <th>합계</th>\n",
              "    </tr>\n",
              "  </thead>\n",
              "  <tbody>\n",
              "    <tr>\n",
              "      <th>0</th>\n",
              "      <td>2018/01/01</td>\n",
              "      <td>1호선</td>\n",
              "      <td>150</td>\n",
              "      <td>서울역</td>\n",
              "      <td>승차</td>\n",
              "      <td>373</td>\n",
              "      <td>318</td>\n",
              "      <td>365</td>\n",
              "      <td>785</td>\n",
              "      <td>1047</td>\n",
              "      <td>...</td>\n",
              "      <td>3476</td>\n",
              "      <td>3891</td>\n",
              "      <td>3227</td>\n",
              "      <td>2945</td>\n",
              "      <td>2382</td>\n",
              "      <td>3070</td>\n",
              "      <td>1750</td>\n",
              "      <td>781</td>\n",
              "      <td>96</td>\n",
              "      <td>40393</td>\n",
              "    </tr>\n",
              "    <tr>\n",
              "      <th>1</th>\n",
              "      <td>2018/01/01</td>\n",
              "      <td>1호선</td>\n",
              "      <td>150</td>\n",
              "      <td>서울역</td>\n",
              "      <td>하차</td>\n",
              "      <td>205</td>\n",
              "      <td>1040</td>\n",
              "      <td>872</td>\n",
              "      <td>984</td>\n",
              "      <td>1650</td>\n",
              "      <td>...</td>\n",
              "      <td>2885</td>\n",
              "      <td>2845</td>\n",
              "      <td>2337</td>\n",
              "      <td>2131</td>\n",
              "      <td>1669</td>\n",
              "      <td>1404</td>\n",
              "      <td>868</td>\n",
              "      <td>477</td>\n",
              "      <td>147</td>\n",
              "      <td>34730</td>\n",
              "    </tr>\n",
              "    <tr>\n",
              "      <th>2</th>\n",
              "      <td>2018/01/01</td>\n",
              "      <td>1호선</td>\n",
              "      <td>151</td>\n",
              "      <td>시청</td>\n",
              "      <td>승차</td>\n",
              "      <td>87</td>\n",
              "      <td>105</td>\n",
              "      <td>124</td>\n",
              "      <td>197</td>\n",
              "      <td>291</td>\n",
              "      <td>...</td>\n",
              "      <td>1027</td>\n",
              "      <td>1102</td>\n",
              "      <td>1278</td>\n",
              "      <td>1163</td>\n",
              "      <td>1032</td>\n",
              "      <td>975</td>\n",
              "      <td>553</td>\n",
              "      <td>214</td>\n",
              "      <td>9</td>\n",
              "      <td>12298</td>\n",
              "    </tr>\n",
              "    <tr>\n",
              "      <th>3</th>\n",
              "      <td>2018/01/01</td>\n",
              "      <td>1호선</td>\n",
              "      <td>151</td>\n",
              "      <td>시청</td>\n",
              "      <td>하차</td>\n",
              "      <td>47</td>\n",
              "      <td>294</td>\n",
              "      <td>497</td>\n",
              "      <td>1017</td>\n",
              "      <td>673</td>\n",
              "      <td>...</td>\n",
              "      <td>781</td>\n",
              "      <td>702</td>\n",
              "      <td>552</td>\n",
              "      <td>388</td>\n",
              "      <td>308</td>\n",
              "      <td>236</td>\n",
              "      <td>160</td>\n",
              "      <td>100</td>\n",
              "      <td>39</td>\n",
              "      <td>10945</td>\n",
              "    </tr>\n",
              "    <tr>\n",
              "      <th>4</th>\n",
              "      <td>2018/01/01</td>\n",
              "      <td>1호선</td>\n",
              "      <td>152</td>\n",
              "      <td>종각</td>\n",
              "      <td>승차</td>\n",
              "      <td>604</td>\n",
              "      <td>399</td>\n",
              "      <td>191</td>\n",
              "      <td>250</td>\n",
              "      <td>370</td>\n",
              "      <td>...</td>\n",
              "      <td>2127</td>\n",
              "      <td>2172</td>\n",
              "      <td>2171</td>\n",
              "      <td>1873</td>\n",
              "      <td>1935</td>\n",
              "      <td>2084</td>\n",
              "      <td>1458</td>\n",
              "      <td>580</td>\n",
              "      <td>28</td>\n",
              "      <td>22621</td>\n",
              "    </tr>\n",
              "  </tbody>\n",
              "</table>\n",
              "<p>5 rows × 26 columns</p>\n",
              "</div>"
            ],
            "text/plain": [
              "           날짜   호선  역번호   역명  구분  05~06  06~07  07~08  08~09  09~10  ...  \\\n",
              "0  2018/01/01  1호선  150  서울역  승차    373    318    365    785   1047  ...   \n",
              "1  2018/01/01  1호선  150  서울역  하차    205   1040    872    984   1650  ...   \n",
              "2  2018/01/01  1호선  151   시청  승차     87    105    124    197    291  ...   \n",
              "3  2018/01/01  1호선  151   시청  하차     47    294    497   1017    673  ...   \n",
              "4  2018/01/01  1호선  152   종각  승차    604    399    191    250    370  ...   \n",
              "\n",
              "   16~17  17~18  18~19  19~20  20~21  21~22  22~23  23~24  00~01     합계  \n",
              "0   3476   3891   3227   2945   2382   3070   1750    781     96  40393  \n",
              "1   2885   2845   2337   2131   1669   1404    868    477    147  34730  \n",
              "2   1027   1102   1278   1163   1032    975    553    214      9  12298  \n",
              "3    781    702    552    388    308    236    160    100     39  10945  \n",
              "4   2127   2172   2171   1873   1935   2084   1458    580     28  22621  \n",
              "\n",
              "[5 rows x 26 columns]"
            ]
          },
          "execution_count": 3,
          "metadata": {},
          "output_type": "execute_result"
        }
      ],
      "source": [
        "subway_df = pd.read_csv(\"subway.csv\", skiprows=1)\n",
        "subway_df.columns = subway_df.columns.str.replace(\" \", \"\")\n",
        "subway_df.head()"
      ]
    },
    {
      "cell_type": "code",
      "execution_count": 4,
      "metadata": {},
      "outputs": [
        {
          "name": "stdout",
          "output_type": "stream",
          "text": [
            "<class 'pandas.core.frame.DataFrame'>\n",
            "RangeIndex: 200750 entries, 0 to 200749\n",
            "Data columns (total 26 columns):\n",
            " #   Column  Non-Null Count   Dtype \n",
            "---  ------  --------------   ----- \n",
            " 0   날짜      200750 non-null  object\n",
            " 1   호선      200750 non-null  object\n",
            " 2   역번호     200750 non-null  int64 \n",
            " 3   역명      200750 non-null  object\n",
            " 4   구분      200750 non-null  object\n",
            " 5   05~06   200750 non-null  int64 \n",
            " 6   06~07   200750 non-null  int64 \n",
            " 7   07~08   200750 non-null  int64 \n",
            " 8   08~09   200750 non-null  int64 \n",
            " 9   09~10   200750 non-null  int64 \n",
            " 10  10~11   200750 non-null  int64 \n",
            " 11  11~12   200750 non-null  int64 \n",
            " 12  12~13   200750 non-null  int64 \n",
            " 13  13~14   200750 non-null  int64 \n",
            " 14  14~15   200750 non-null  int64 \n",
            " 15  15~16   200750 non-null  int64 \n",
            " 16  16~17   200750 non-null  int64 \n",
            " 17  17~18   200750 non-null  int64 \n",
            " 18  18~19   200750 non-null  int64 \n",
            " 19  19~20   200750 non-null  int64 \n",
            " 20  20~21   200750 non-null  int64 \n",
            " 21  21~22   200750 non-null  int64 \n",
            " 22  22~23   200750 non-null  int64 \n",
            " 23  23~24   200750 non-null  int64 \n",
            " 24  00~01   200750 non-null  int64 \n",
            " 25  합계      200750 non-null  int64 \n",
            "dtypes: int64(22), object(4)\n",
            "memory usage: 39.8+ MB\n"
          ]
        }
      ],
      "source": [
        "subway_df.info()"
      ]
    },
    {
      "cell_type": "code",
      "execution_count": 5,
      "metadata": {},
      "outputs": [],
      "source": [
        "subway_df = subway_df[['날짜','호선', '역명', '구분', '합계']]\n",
        "subway_df['날짜'] = pd.to_datetime(subway_df['날짜'])"
      ]
    },
    {
      "cell_type": "code",
      "execution_count": 6,
      "metadata": {},
      "outputs": [],
      "source": [
        "subway_df = subway_df.set_index('날짜')"
      ]
    },
    {
      "cell_type": "code",
      "execution_count": 7,
      "metadata": {},
      "outputs": [
        {
          "data": {
            "text/html": [
              "<div>\n",
              "<style scoped>\n",
              "    .dataframe tbody tr th:only-of-type {\n",
              "        vertical-align: middle;\n",
              "    }\n",
              "\n",
              "    .dataframe tbody tr th {\n",
              "        vertical-align: top;\n",
              "    }\n",
              "\n",
              "    .dataframe thead th {\n",
              "        text-align: right;\n",
              "    }\n",
              "</style>\n",
              "<table border=\"1\" class=\"dataframe\">\n",
              "  <thead>\n",
              "    <tr style=\"text-align: right;\">\n",
              "      <th></th>\n",
              "      <th>호선</th>\n",
              "      <th>역명</th>\n",
              "      <th>구분</th>\n",
              "      <th>합계</th>\n",
              "    </tr>\n",
              "    <tr>\n",
              "      <th>날짜</th>\n",
              "      <th></th>\n",
              "      <th></th>\n",
              "      <th></th>\n",
              "      <th></th>\n",
              "    </tr>\n",
              "  </thead>\n",
              "  <tbody>\n",
              "    <tr>\n",
              "      <th>2018-01-01</th>\n",
              "      <td>1호선</td>\n",
              "      <td>서울역</td>\n",
              "      <td>승차</td>\n",
              "      <td>40393</td>\n",
              "    </tr>\n",
              "    <tr>\n",
              "      <th>2018-01-01</th>\n",
              "      <td>1호선</td>\n",
              "      <td>서울역</td>\n",
              "      <td>하차</td>\n",
              "      <td>34730</td>\n",
              "    </tr>\n",
              "    <tr>\n",
              "      <th>2018-01-01</th>\n",
              "      <td>1호선</td>\n",
              "      <td>시청</td>\n",
              "      <td>승차</td>\n",
              "      <td>12298</td>\n",
              "    </tr>\n",
              "    <tr>\n",
              "      <th>2018-01-01</th>\n",
              "      <td>1호선</td>\n",
              "      <td>시청</td>\n",
              "      <td>하차</td>\n",
              "      <td>10945</td>\n",
              "    </tr>\n",
              "    <tr>\n",
              "      <th>2018-01-01</th>\n",
              "      <td>1호선</td>\n",
              "      <td>종각</td>\n",
              "      <td>승차</td>\n",
              "      <td>22621</td>\n",
              "    </tr>\n",
              "  </tbody>\n",
              "</table>\n",
              "</div>"
            ],
            "text/plain": [
              "             호선   역명  구분     합계\n",
              "날짜                             \n",
              "2018-01-01  1호선  서울역  승차  40393\n",
              "2018-01-01  1호선  서울역  하차  34730\n",
              "2018-01-01  1호선   시청  승차  12298\n",
              "2018-01-01  1호선   시청  하차  10945\n",
              "2018-01-01  1호선   종각  승차  22621"
            ]
          },
          "execution_count": 7,
          "metadata": {},
          "output_type": "execute_result"
        }
      ],
      "source": [
        "subway_df.head()"
      ]
    },
    {
      "cell_type": "code",
      "execution_count": 8,
      "metadata": {},
      "outputs": [
        {
          "name": "stdout",
          "output_type": "stream",
          "text": [
            "8호선\n"
          ]
        },
        {
          "data": {
            "text/plain": [
              "<AxesSubplot:xlabel='호선'>"
            ]
          },
          "execution_count": 8,
          "metadata": {},
          "output_type": "execute_result"
        },
        {
          "data": {
            "image/png": "[encoded data removed]",
            "text/plain": [
              "<Figure size 432x288 with 1 Axes>"
            ]
          },
          "metadata": {
            "needs_background": "light"
          },
          "output_type": "display_data"
        }
      ],
      "source": [
        "\n",
        "# print(subway_df.groupby('호선').sum())\n",
        "print(subway_df.groupby('호선').sum().sort_values('합계').iloc[0].name)\n",
        "subway_df.groupby('호선').sum().plot()"
      ]
    },
    {
      "cell_type": "code",
      "execution_count": 9,
      "metadata": {},
      "outputs": [
        {
          "name": "stdout",
          "output_type": "stream",
          "text": [
            "2018-05-04 00:00:00\n",
            "잠실(송파구청)\n"
          ]
        }
      ],
      "source": [
        "print((subway_df.resample('D').sum().sort_values('합계', ascending=False)).iloc[0].name)\n",
        "print(subway_df.loc[\n",
        "                    (subway_df.resample('D').sum().sort_values('합계', ascending=False)).iloc[0].name\n",
        "                ].groupby('역명').sum().sort_values('합계', ascending=False).iloc[0].name)\n"
      ]
    },
    {
      "cell_type": "code",
      "execution_count": 10,
      "metadata": {},
      "outputs": [
        {
          "name": "stdout",
          "output_type": "stream",
          "text": [
            "날짜    2018-04-07 00:00:00\n",
            "호선                    2호선\n",
            "역명               잠실(송파구청)\n",
            "구분                     승차\n",
            "합계                 138941\n",
            "Name: 50978, dtype: object\n",
            "날짜    2018-12-21 00:00:00\n",
            "호선                    2호선\n",
            "역명                     강남\n",
            "구분                     하차\n",
            "합계                 138378\n",
            "Name: 194763, dtype: object\n",
            "\n",
            "합계    75844902\n",
            "Name: 잠실(송파구청), dtype: int64\n",
            "합계    잠실(송파구청)\n",
            "dtype: object\n",
            "\n",
            "                        합계\n",
            "역명                        \n",
            "천호(풍납토성)          14641170\n",
            "장지                13200408\n",
            "암사                12751478\n",
            "문정                12305513\n",
            "잠실(송파구청)          11834150\n",
            "남한산성입구(성남법원.검찰청)  10077851\n",
            "단대오거리              7997301\n",
            "강동구청               7951472\n",
            "복정                 7741442\n",
            "석촌                 6790870\n",
            "가락시장               5841890\n",
            "몽촌토성(평화의문)         5310832\n",
            "산성                 4176932\n",
            "송파                 3975113\n",
            "수진                 3896951\n",
            "신흥                 3565857\n",
            "모란                 3178749\n"
          ]
        },
        {
          "data": {
            "text/plain": [
              "합계    천호(풍납토성)\n",
              "dtype: object"
            ]
          },
          "execution_count": 10,
          "metadata": {},
          "output_type": "execute_result"
        }
      ],
      "source": [
        "subway_df2 = subway_df.reset_index()\n",
        "print(subway_df2.groupby(['구분']).get_group('승차').sort_values('합계', ascending=False).iloc[0])\n",
        "print(subway_df2.groupby(['구분']).get_group('하차').sort_values('합계', ascending=False).iloc[0])\n",
        "print()\n",
        "print(subway_df2.groupby(['역명']).sum().sort_values('합계', ascending=False).iloc[0])\n",
        "print(subway_df2.groupby(['역명']).sum().idxmax())\n",
        "\n",
        "print()\n",
        "print(subway_df2.groupby(['호선', '역명']).sum().loc['8호선'].sort_values('합계', ascending=False))\n",
        "subway_df2.groupby(['호선', '역명']).sum().loc['8호선'].idxmax()"
      ]
    },
    {
      "cell_type": "code",
      "execution_count": 32,
      "metadata": {},
      "outputs": [
        {
          "name": "stdout",
          "output_type": "stream",
          "text": [
            "구분               승차       하차       차이\n",
            "날짜                                   \n",
            "2018-12-31  5070806  5134123  63317.0\n",
            "2018-02-15  1972211  1932804  39407.0\n",
            "2018-10-06  3992023  4024851  32828.0\n",
            "2018-01-30  5313295  5282660  30635.0\n"
          ]
        },
        {
          "data": {
            "text/plain": [
              "[<matplotlib.lines.Line2D at 0x21f0c9f5820>]"
            ]
          },
          "execution_count": 32,
          "metadata": {},
          "output_type": "execute_result"
        },
        {
          "data": {
            "image/png": "[encoded data removed]",
            "text/plain": [
              "<Figure size 720x576 with 1 Axes>"
            ]
          },
          "metadata": {
            "needs_background": "light"
          },
          "output_type": "display_data"
        }
      ],
      "source": [
        "temp = subway_df.groupby([\"날짜\", \"구분\"])['합계'].sum().unstack()\n",
        "temp['차이'] = np.fabs(temp['하차']-temp['승차'])\n",
        "print(temp.sort_values('차이', ascending=False).iloc[0:4])\n",
        "\n",
        "plt.figure(figsize=(10, 8))\n",
        "plt.plot(temp['차이'])\n"
      ]
    },
    {
      "cell_type": "markdown",
      "metadata": {
        "id": "Dz27U3Q3ibpi"
      },
      "source": [
        "**문제2**\n",
        "\n",
        "(1) 2018Y.xlsx로 데이터 프레임을 생성합니다.\n",
        "\n",
        "- 2018Y.xlsx는 2018년 날짜와 요일에 대한 데이터입니다.\n",
        "- pd.read_excel()을 사용하여 데이터를 읽습니다.\n",
        "- '날짜'열의 데이터를 'datetime' 자료형으로 바꿉니다.\n",
        "\n",
        "\n",
        "\n",
        "(2) subway와 데이터프레임과 merge하여 요일별 승하차 인원이 제일 많은 요일을 구합니다.    \n",
        "요일별 승하차 인원의 합을 나타낸 bar 그래프를 그려보세요. (간단하게 그립니다.)\n",
        "\n",
        "\n",
        "\n",
        "\n"
      ]
    },
    {
      "cell_type": "code",
      "execution_count": 74,
      "metadata": {},
      "outputs": [
        {
          "name": "stdout",
          "output_type": "stream",
          "text": [
            "<class 'pandas.core.frame.DataFrame'>\n",
            "DatetimeIndex: 365 entries, 2018-01-01 to 2018-12-31\n",
            "Data columns (total 3 columns):\n",
            " #   Column  Non-Null Count  Dtype \n",
            "---  ------  --------------  ----- \n",
            " 0   요일      365 non-null    object\n",
            " 1   공휴일여부   365 non-null    int64 \n",
            " 2   사유      18 non-null     object\n",
            "dtypes: int64(1), object(2)\n",
            "memory usage: 11.4+ KB\n",
            "<class 'pandas.core.frame.DataFrame'>\n",
            "DatetimeIndex: 200750 entries, 2018-01-01 to 2018-12-31\n",
            "Data columns (total 4 columns):\n",
            " #   Column  Non-Null Count   Dtype \n",
            "---  ------  --------------   ----- \n",
            " 0   호선      200750 non-null  object\n",
            " 1   역명      200750 non-null  object\n",
            " 2   구분      200750 non-null  object\n",
            " 3   합계      200750 non-null  int64 \n",
            "dtypes: int64(1), object(3)\n",
            "memory usage: 11.7+ MB\n",
            "<class 'pandas.core.frame.DataFrame'>\n",
            "DatetimeIndex: 365 entries, 2018-01-01 to 2018-12-31\n",
            "Data columns (total 3 columns):\n",
            " #   Column  Non-Null Count  Dtype  \n",
            "---  ------  --------------  -----  \n",
            " 0   승차      365 non-null    int64  \n",
            " 1   하차      365 non-null    int64  \n",
            " 2   차이      365 non-null    float64\n",
            "dtypes: float64(1), int64(2)\n",
            "memory usage: 19.5 KB\n"
          ]
        },
        {
          "data": {
            "text/plain": [
              "<AxesSubplot:xlabel='요일'>"
            ]
          },
          "execution_count": 74,
          "metadata": {},
          "output_type": "execute_result"
        },
        {
          "data": {
            "image/png": "[encoded data removed]",
            "text/plain": [
              "<Figure size 720x576 with 1 Axes>"
            ]
          },
          "metadata": {
            "needs_background": "light"
          },
          "output_type": "display_data"
        }
      ],
      "source": [
        "df_2018y = pd.read_excel('2018Y.xlsx')\n",
        "\n",
        "df_2018y = df_2018y.set_index('날짜')\n",
        "df_2018y.info()\n",
        "# print(df_2018y.head())\n",
        "# pd.to_datetime(df_2018y['날짜'])\n",
        "subway_df.info()\n",
        "temp.info()\n",
        "\n",
        "pd.merge(df_2018y, temp, left_index=True, right_index=True)[['요일', '승차', '하차']].groupby('요일').sum().plot.bar(figsize=(10,8))"
      ]
    },
    {
      "cell_type": "markdown",
      "metadata": {
        "id": "RuKyJ0i2J7mx"
      },
      "source": [
        "**문제3** \n",
        "\n",
        "'nba.csv'를 불러와 Age열에 대하여 InterQuartile Range를 이용하여 Outlier를 확인하세요. \n",
        "\n",
        "\n",
        "$$\n",
        "Q1 = 25\\%, Q3 = 75\\%, IQR = Q3 - Q1  \n",
        "$$\n",
        "\n",
        "$$ \n",
        "[{Q1} - 1.5\\times{IQR}, {Q3} + 1.5\\times{IQR}] \n",
        "$$\n",
        "\n",
        "밖의 데이터를 Outlier이라 합니다."
      ]
    },
    {
      "cell_type": "markdown",
      "metadata": {
        "id": "ocT41VZOM6kT"
      },
      "source": [
        "(1) Age의 데이터를 사용하여 다음과 같은 그림을 그려보세요. (boxplot을 사용하여 그려보세요.)\n",
        "\n",
        "먼저, 시각적으로 Outlier가 있는지 확인보세요."
      ]
    },
    {
      "cell_type": "code",
      "execution_count": 81,
      "metadata": {
        "colab": {
          "base_uri": "https://localhost:8080/",
          "height": 593
        },
        "id": "0IdMu2XPI0hJ",
        "outputId": "c5785b69-2eb3-4937-ddf0-0970b74c3f86"
      },
      "outputs": [
        {
          "data": {
            "text/plain": [
              "Number          5.00\n",
              "Age            24.00\n",
              "Weight        200.00\n",
              "Salary    1044792.25\n",
              "Name: 0.25, dtype: float64"
            ]
          },
          "execution_count": 81,
          "metadata": {},
          "output_type": "execute_result"
        }
      ],
      "source": [
        "nba_df = pd.read_csv('nba.csv')\n",
        "# nba_df.info()\n",
        "# nba_df.head()\n",
        "# nba_df.isna().sum()\n",
        "# nba_df.isnull().sum()\n",
        "# nba_df.dropna().info()\n",
        "# nba_df.dropna(subset=['Age']).info()\n"
      ]
    },
    {
      "cell_type": "code",
      "execution_count": 116,
      "metadata": {},
      "outputs": [
        {
          "name": "stdout",
          "output_type": "stream",
          "text": [
            "<class 'pandas.core.series.Series'>\n"
          ]
        },
        {
          "data": {
            "text/plain": [
              "{'whiskers': [<matplotlib.lines.Line2D at 0x21f10f3f190>,\n",
              "  <matplotlib.lines.Line2D at 0x21f10f3f520>],\n",
              " 'caps': [<matplotlib.lines.Line2D at 0x21f10f3f8b0>,\n",
              "  <matplotlib.lines.Line2D at 0x21f10f3fc40>],\n",
              " 'boxes': [<matplotlib.lines.Line2D at 0x21f10f30dc0>],\n",
              " 'medians': [<matplotlib.lines.Line2D at 0x21f10f3ffd0>],\n",
              " 'fliers': [<matplotlib.lines.Line2D at 0x21f10f4a3a0>],\n",
              " 'means': []}"
            ]
          },
          "execution_count": 116,
          "metadata": {},
          "output_type": "execute_result"
        },
        {
          "data": {
            "image/png": "[encoded data removed]",
            "text/plain": [
              "<Figure size 720x576 with 1 Axes>"
            ]
          },
          "metadata": {
            "needs_background": "light"
          },
          "output_type": "display_data"
        }
      ],
      "source": [
        "nba_df = nba_df.dropna(subset=['Age'])\n",
        "q1 = nba_df['Age'].quantile(0.25)\n",
        "q3 = nba_df['Age'].quantile(0.75)\n",
        "iqr = q3 - q1\n",
        "ttt = None\n",
        "nba_df_age_quant = (nba_df['Age'] < (q1-1.5*iqr)) | (nba_df['Age'] > (q3+1.5*iqr))\n",
        "nba_df['Outlier'] = nba_df_age_quant\n",
        "\n",
        "print(type((nba_df['Age'] >= (q1-1.5*iqr)) & (nba_df['Age'] <= (q3+1.5*iqr))))\n",
        "# nba_df[(nba_df['Age'] >= (q1-1.5*iqr)) & (nba_df['Age'] <= (q3+1.5*iqr))]['Age'].plot.box(figsize=(10,8))\n",
        "# print(nba_df[nba_df.Outlier == True][[\"Name\",\"Age\"]])\n",
        "plt.figure(figsize=(10, 8))\n",
        "plt.boxplot(nba_df['Age'])"
      ]
    },
    {
      "cell_type": "markdown",
      "metadata": {
        "id": "g5NfkceVOXHN"
      },
      "source": [
        "(2) Outlier가 구체적으로 무엇인지 확인해보세요.\n",
        "\n",
        "'Outlier' 열을 생성해서, Outlier인 경우 True, 그렇지 않은 경우 False를 넣어주세요.\n",
        "\n",
        "Outlier는 다음과 같습니다.\n",
        "```\n",
        ">>> print(df[df.Outlier == True][[\"Name\",\"Age\"]])\n",
        "              Name   Age\n",
        "298     Tim Duncan  40.0\n",
        "304   Andre Miller  40.0\n",
        "400  Kevin Garnett  40.0\n",
        "```"
      ]
    },
    {
      "cell_type": "code",
      "execution_count": 119,
      "metadata": {},
      "outputs": [
        {
          "name": "stdout",
          "output_type": "stream",
          "text": [
            "              Name   Age\n",
            "298     Tim Duncan  40.0\n",
            "304   Andre Miller  40.0\n",
            "400  Kevin Garnett  40.0\n"
          ]
        }
      ],
      "source": [
        "nba_df.head()\n",
        "print(nba_df[nba_df.Outlier == True][[\"Name\",\"Age\"]])"
      ]
    },
    {
      "cell_type": "markdown",
      "metadata": {
        "id": "HjTPYCE3O4ck"
      },
      "source": [
        "---"
      ]
    },
    {
      "cell_type": "markdown",
      "metadata": {
        "id": "oeAsrWQdO6Kc"
      },
      "source": [
        "**문제4**\n",
        "\n",
        "Boston 집값의 데이터셋으로 linear regression을 하고,  distribution transformation을 한 결과를 확인하세요.\n",
        "\n",
        "* x 값에는 LSTAT(인구 중 하위 계층비율)\n",
        "* x 값에 transformation 한 결과 중 normal distribution과 비슷한 값과 비교해본다.\n",
        "* y 값에는 MEDV(집값) 교안과 동일\n",
        "* 실제로 linear regression을 진행하고, sqrt, log로 데이터를 변형한다.\n",
        "* mean squared error 과 variance를 비교해본다.\n"
      ]
    },
    {
      "cell_type": "markdown",
      "metadata": {
        "id": "Fkj_aDSBLj87"
      },
      "source": [
        "(1) default 'LSTAT' 열의 값을 사용하여 Linear Regression을 하세요."
      ]
    },
    {
      "cell_type": "code",
      "execution_count": 122,
      "metadata": {},
      "outputs": [
        {
          "name": "stdout",
          "output_type": "stream",
          "text": [
            "<class 'pandas.core.frame.DataFrame'>\n",
            "RangeIndex: 506 entries, 0 to 505\n",
            "Data columns (total 15 columns):\n",
            " #   Column     Non-Null Count  Dtype  \n",
            "---  ------     --------------  -----  \n",
            " 0   CRIM       506 non-null    float64\n",
            " 1   ZN         506 non-null    float64\n",
            " 2   INDUS      506 non-null    float64\n",
            " 3   CHAS       506 non-null    int64  \n",
            " 4   NOX        506 non-null    float64\n",
            " 5   RM         506 non-null    float64\n",
            " 6   AGE        506 non-null    float64\n",
            " 7   DIS        506 non-null    float64\n",
            " 8   RAD        506 non-null    int64  \n",
            " 9   TAX        506 non-null    int64  \n",
            " 10  PTRATIO    506 non-null    float64\n",
            " 11  B          506 non-null    float64\n",
            " 12  LSTAT      506 non-null    float64\n",
            " 13  MEDV       506 non-null    float64\n",
            " 14  CAT. MEDV  506 non-null    int64  \n",
            "dtypes: float64(11), int64(4)\n",
            "memory usage: 59.4 KB\n"
          ]
        },
        {
          "data": {
            "text/html": [
              "<div>\n",
              "<style scoped>\n",
              "    .dataframe tbody tr th:only-of-type {\n",
              "        vertical-align: middle;\n",
              "    }\n",
              "\n",
              "    .dataframe tbody tr th {\n",
              "        vertical-align: top;\n",
              "    }\n",
              "\n",
              "    .dataframe thead th {\n",
              "        text-align: right;\n",
              "    }\n",
              "</style>\n",
              "<table border=\"1\" class=\"dataframe\">\n",
              "  <thead>\n",
              "    <tr style=\"text-align: right;\">\n",
              "      <th></th>\n",
              "      <th>CRIM</th>\n",
              "      <th>ZN</th>\n",
              "      <th>INDUS</th>\n",
              "      <th>CHAS</th>\n",
              "      <th>NOX</th>\n",
              "      <th>RM</th>\n",
              "      <th>AGE</th>\n",
              "      <th>DIS</th>\n",
              "      <th>RAD</th>\n",
              "      <th>TAX</th>\n",
              "      <th>PTRATIO</th>\n",
              "      <th>B</th>\n",
              "      <th>LSTAT</th>\n",
              "      <th>MEDV</th>\n",
              "      <th>CAT. MEDV</th>\n",
              "    </tr>\n",
              "  </thead>\n",
              "  <tbody>\n",
              "    <tr>\n",
              "      <th>0</th>\n",
              "      <td>0.00632</td>\n",
              "      <td>18.0</td>\n",
              "      <td>2.31</td>\n",
              "      <td>0</td>\n",
              "      <td>0.538</td>\n",
              "      <td>6.575</td>\n",
              "      <td>65.2</td>\n",
              "      <td>4.0900</td>\n",
              "      <td>1</td>\n",
              "      <td>296</td>\n",
              "      <td>15.3</td>\n",
              "      <td>396.90</td>\n",
              "      <td>4.98</td>\n",
              "      <td>24.0</td>\n",
              "      <td>0</td>\n",
              "    </tr>\n",
              "    <tr>\n",
              "      <th>1</th>\n",
              "      <td>0.02731</td>\n",
              "      <td>0.0</td>\n",
              "      <td>7.07</td>\n",
              "      <td>0</td>\n",
              "      <td>0.469</td>\n",
              "      <td>6.421</td>\n",
              "      <td>78.9</td>\n",
              "      <td>4.9671</td>\n",
              "      <td>2</td>\n",
              "      <td>242</td>\n",
              "      <td>17.8</td>\n",
              "      <td>396.90</td>\n",
              "      <td>9.14</td>\n",
              "      <td>21.6</td>\n",
              "      <td>0</td>\n",
              "    </tr>\n",
              "    <tr>\n",
              "      <th>2</th>\n",
              "      <td>0.02729</td>\n",
              "      <td>0.0</td>\n",
              "      <td>7.07</td>\n",
              "      <td>0</td>\n",
              "      <td>0.469</td>\n",
              "      <td>7.185</td>\n",
              "      <td>61.1</td>\n",
              "      <td>4.9671</td>\n",
              "      <td>2</td>\n",
              "      <td>242</td>\n",
              "      <td>17.8</td>\n",
              "      <td>392.83</td>\n",
              "      <td>4.03</td>\n",
              "      <td>34.7</td>\n",
              "      <td>1</td>\n",
              "    </tr>\n",
              "    <tr>\n",
              "      <th>3</th>\n",
              "      <td>0.03237</td>\n",
              "      <td>0.0</td>\n",
              "      <td>2.18</td>\n",
              "      <td>0</td>\n",
              "      <td>0.458</td>\n",
              "      <td>6.998</td>\n",
              "      <td>45.8</td>\n",
              "      <td>6.0622</td>\n",
              "      <td>3</td>\n",
              "      <td>222</td>\n",
              "      <td>18.7</td>\n",
              "      <td>394.63</td>\n",
              "      <td>2.94</td>\n",
              "      <td>33.4</td>\n",
              "      <td>1</td>\n",
              "    </tr>\n",
              "    <tr>\n",
              "      <th>4</th>\n",
              "      <td>0.06905</td>\n",
              "      <td>0.0</td>\n",
              "      <td>2.18</td>\n",
              "      <td>0</td>\n",
              "      <td>0.458</td>\n",
              "      <td>7.147</td>\n",
              "      <td>54.2</td>\n",
              "      <td>6.0622</td>\n",
              "      <td>3</td>\n",
              "      <td>222</td>\n",
              "      <td>18.7</td>\n",
              "      <td>396.90</td>\n",
              "      <td>5.33</td>\n",
              "      <td>36.2</td>\n",
              "      <td>1</td>\n",
              "    </tr>\n",
              "  </tbody>\n",
              "</table>\n",
              "</div>"
            ],
            "text/plain": [
              "      CRIM    ZN  INDUS  CHAS    NOX     RM   AGE     DIS  RAD  TAX  PTRATIO  \\\n",
              "0  0.00632  18.0   2.31     0  0.538  6.575  65.2  4.0900    1  296     15.3   \n",
              "1  0.02731   0.0   7.07     0  0.469  6.421  78.9  4.9671    2  242     17.8   \n",
              "2  0.02729   0.0   7.07     0  0.469  7.185  61.1  4.9671    2  242     17.8   \n",
              "3  0.03237   0.0   2.18     0  0.458  6.998  45.8  6.0622    3  222     18.7   \n",
              "4  0.06905   0.0   2.18     0  0.458  7.147  54.2  6.0622    3  222     18.7   \n",
              "\n",
              "        B  LSTAT  MEDV  CAT. MEDV  \n",
              "0  396.90   4.98  24.0          0  \n",
              "1  396.90   9.14  21.6          0  \n",
              "2  392.83   4.03  34.7          1  \n",
              "3  394.63   2.94  33.4          1  \n",
              "4  396.90   5.33  36.2          1  "
            ]
          },
          "execution_count": 122,
          "metadata": {},
          "output_type": "execute_result"
        }
      ],
      "source": [
        "boston_housing_df = pd.read_csv('BostonHousing.csv')\n",
        "boston_housing_df.info()\n",
        "boston_housing_df.head()"
      ]
    },
    {
      "cell_type": "code",
      "execution_count": 178,
      "metadata": {},
      "outputs": [
        {
          "data": {
            "text/plain": [
              "(array([-0.95004935]), 34.55384087938311)"
            ]
          },
          "execution_count": 178,
          "metadata": {},
          "output_type": "execute_result"
        }
      ],
      "source": [
        "linear_reg = linear_model.LinearRegression()\n",
        "linear_reg.fit(boston_housing_df.LSTAT.array.reshape(-1, 1), boston_housing_df.MEDV)\n",
        "linear_reg.coef_, linear_reg.intercept_"
      ]
    },
    {
      "cell_type": "code",
      "execution_count": 135,
      "metadata": {},
      "outputs": [],
      "source": [
        "import statsmodels.api as sm"
      ]
    },
    {
      "cell_type": "code",
      "execution_count": 177,
      "metadata": {},
      "outputs": [
        {
          "data": {
            "text/html": [
              "<table class=\"simpletable\">\n",
              "<caption>OLS Regression Results</caption>\n",
              "<tr>\n",
              "  <th>Dep. Variable:</th>          <td>MEDV</td>       <th>  R-squared:         </th> <td>   0.544</td>\n",
              "</tr>\n",
              "<tr>\n",
              "  <th>Model:</th>                   <td>OLS</td>       <th>  Adj. R-squared:    </th> <td>   0.543</td>\n",
              "</tr>\n",
              "<tr>\n",
              "  <th>Method:</th>             <td>Least Squares</td>  <th>  F-statistic:       </th> <td>   601.6</td>\n",
              "</tr>\n",
              "<tr>\n",
              "  <th>Date:</th>             <td>Thu, 13 Jan 2022</td> <th>  Prob (F-statistic):</th> <td>5.08e-88</td>\n",
              "</tr>\n",
              "<tr>\n",
              "  <th>Time:</th>                 <td>22:37:33</td>     <th>  Log-Likelihood:    </th> <td> -1641.5</td>\n",
              "</tr>\n",
              "<tr>\n",
              "  <th>No. Observations:</th>      <td>   506</td>      <th>  AIC:               </th> <td>   3287.</td>\n",
              "</tr>\n",
              "<tr>\n",
              "  <th>Df Residuals:</th>          <td>   504</td>      <th>  BIC:               </th> <td>   3295.</td>\n",
              "</tr>\n",
              "<tr>\n",
              "  <th>Df Model:</th>              <td>     1</td>      <th>                     </th>     <td> </td>   \n",
              "</tr>\n",
              "<tr>\n",
              "  <th>Covariance Type:</th>      <td>nonrobust</td>    <th>                     </th>     <td> </td>   \n",
              "</tr>\n",
              "</table>\n",
              "<table class=\"simpletable\">\n",
              "<tr>\n",
              "      <td></td>         <th>coef</th>     <th>std err</th>      <th>t</th>      <th>P>|t|</th>  <th>[0.025</th>    <th>0.975]</th>  \n",
              "</tr>\n",
              "<tr>\n",
              "  <th>Intercept</th> <td>   34.5538</td> <td>    0.563</td> <td>   61.415</td> <td> 0.000</td> <td>   33.448</td> <td>   35.659</td>\n",
              "</tr>\n",
              "<tr>\n",
              "  <th>LSTAT</th>     <td>   -0.9500</td> <td>    0.039</td> <td>  -24.528</td> <td> 0.000</td> <td>   -1.026</td> <td>   -0.874</td>\n",
              "</tr>\n",
              "</table>\n",
              "<table class=\"simpletable\">\n",
              "<tr>\n",
              "  <th>Omnibus:</th>       <td>137.043</td> <th>  Durbin-Watson:     </th> <td>   0.892</td>\n",
              "</tr>\n",
              "<tr>\n",
              "  <th>Prob(Omnibus):</th> <td> 0.000</td>  <th>  Jarque-Bera (JB):  </th> <td> 291.373</td>\n",
              "</tr>\n",
              "<tr>\n",
              "  <th>Skew:</th>          <td> 1.453</td>  <th>  Prob(JB):          </th> <td>5.36e-64</td>\n",
              "</tr>\n",
              "<tr>\n",
              "  <th>Kurtosis:</th>      <td> 5.319</td>  <th>  Cond. No.          </th> <td>    29.7</td>\n",
              "</tr>\n",
              "</table><br/><br/>Notes:<br/>[1] Standard Errors assume that the covariance matrix of the errors is correctly specified."
            ],
            "text/plain": [
              "<class 'statsmodels.iolib.summary.Summary'>\n",
              "\"\"\"\n",
              "                            OLS Regression Results                            \n",
              "==============================================================================\n",
              "Dep. Variable:                   MEDV   R-squared:                       0.544\n",
              "Model:                            OLS   Adj. R-squared:                  0.543\n",
              "Method:                 Least Squares   F-statistic:                     601.6\n",
              "Date:                Thu, 13 Jan 2022   Prob (F-statistic):           5.08e-88\n",
              "Time:                        22:37:33   Log-Likelihood:                -1641.5\n",
              "No. Observations:                 506   AIC:                             3287.\n",
              "Df Residuals:                     504   BIC:                             3295.\n",
              "Df Model:                           1                                         \n",
              "Covariance Type:            nonrobust                                         \n",
              "==============================================================================\n",
              "                 coef    std err          t      P>|t|      [0.025      0.975]\n",
              "------------------------------------------------------------------------------\n",
              "Intercept     34.5538      0.563     61.415      0.000      33.448      35.659\n",
              "LSTAT         -0.9500      0.039    -24.528      0.000      -1.026      -0.874\n",
              "==============================================================================\n",
              "Omnibus:                      137.043   Durbin-Watson:                   0.892\n",
              "Prob(Omnibus):                  0.000   Jarque-Bera (JB):              291.373\n",
              "Skew:                           1.453   Prob(JB):                     5.36e-64\n",
              "Kurtosis:                       5.319   Cond. No.                         29.7\n",
              "==============================================================================\n",
              "\n",
              "Notes:\n",
              "[1] Standard Errors assume that the covariance matrix of the errors is correctly specified.\n",
              "\"\"\""
            ]
          },
          "execution_count": 177,
          "metadata": {},
          "output_type": "execute_result"
        }
      ],
      "source": [
        "osl_model = sm.OLS.from_formula('MEDV~LSTAT', boston_housing_df)\n",
        "result = osl_model.fit()\n",
        "result.summary()\n"
      ]
    },
    {
      "cell_type": "code",
      "execution_count": 195,
      "metadata": {},
      "outputs": [
        {
          "data": {
            "text/html": [
              "<div>\n",
              "<style scoped>\n",
              "    .dataframe tbody tr th:only-of-type {\n",
              "        vertical-align: middle;\n",
              "    }\n",
              "\n",
              "    .dataframe tbody tr th {\n",
              "        vertical-align: top;\n",
              "    }\n",
              "\n",
              "    .dataframe thead th {\n",
              "        text-align: right;\n",
              "    }\n",
              "</style>\n",
              "<table border=\"1\" class=\"dataframe\">\n",
              "  <thead>\n",
              "    <tr style=\"text-align: right;\">\n",
              "      <th></th>\n",
              "      <th>df</th>\n",
              "      <th>sum_sq</th>\n",
              "      <th>mean_sq</th>\n",
              "      <th>F</th>\n",
              "      <th>PR(&gt;F)</th>\n",
              "    </tr>\n",
              "  </thead>\n",
              "  <tbody>\n",
              "    <tr>\n",
              "      <th>LSTAT2</th>\n",
              "      <td>1.0</td>\n",
              "      <td>28404.039377</td>\n",
              "      <td>28404.039377</td>\n",
              "      <td>1000.236148</td>\n",
              "      <td>9.279886e-122</td>\n",
              "    </tr>\n",
              "    <tr>\n",
              "      <th>Residual</th>\n",
              "      <td>504.0</td>\n",
              "      <td>14312.256038</td>\n",
              "      <td>28.397333</td>\n",
              "      <td>NaN</td>\n",
              "      <td>NaN</td>\n",
              "    </tr>\n",
              "  </tbody>\n",
              "</table>\n",
              "</div>"
            ],
            "text/plain": [
              "             df        sum_sq       mean_sq            F         PR(>F)\n",
              "LSTAT2      1.0  28404.039377  28404.039377  1000.236148  9.279886e-122\n",
              "Residual  504.0  14312.256038     28.397333          NaN            NaN"
            ]
          },
          "execution_count": 195,
          "metadata": {},
          "output_type": "execute_result"
        }
      ],
      "source": [
        "anova_lm(result)"
      ]
    },
    {
      "cell_type": "markdown",
      "metadata": {
        "id": "Re5sEMwFLzn3"
      },
      "source": [
        "(2) linear regression 모델을 사용하여 예측한 예측한 값 (plot 이용) 을 기존 데이터 (scatter 이용)와 함께 그리세요."
      ]
    },
    {
      "cell_type": "code",
      "execution_count": 144,
      "metadata": {},
      "outputs": [],
      "source": [
        "boston_housing_df['MEDV(PRED)'] = linear_reg.predict(boston_housing_df.LSTAT.array.reshape(-1, 1))\n"
      ]
    },
    {
      "cell_type": "code",
      "execution_count": 145,
      "metadata": {},
      "outputs": [
        {
          "name": "stdout",
          "output_type": "stream",
          "text": [
            "<class 'pandas.core.frame.DataFrame'>\n",
            "RangeIndex: 506 entries, 0 to 505\n",
            "Data columns (total 16 columns):\n",
            " #   Column      Non-Null Count  Dtype  \n",
            "---  ------      --------------  -----  \n",
            " 0   CRIM        506 non-null    float64\n",
            " 1   ZN          506 non-null    float64\n",
            " 2   INDUS       506 non-null    float64\n",
            " 3   CHAS        506 non-null    int64  \n",
            " 4   NOX         506 non-null    float64\n",
            " 5   RM          506 non-null    float64\n",
            " 6   AGE         506 non-null    float64\n",
            " 7   DIS         506 non-null    float64\n",
            " 8   RAD         506 non-null    int64  \n",
            " 9   TAX         506 non-null    int64  \n",
            " 10  PTRATIO     506 non-null    float64\n",
            " 11  B           506 non-null    float64\n",
            " 12  LSTAT       506 non-null    float64\n",
            " 13  MEDV        506 non-null    float64\n",
            " 14  CAT. MEDV   506 non-null    int64  \n",
            " 15  MEDV(PRED)  506 non-null    float64\n",
            "dtypes: float64(12), int64(4)\n",
            "memory usage: 63.4 KB\n"
          ]
        }
      ],
      "source": [
        "boston_housing_df.info()"
      ]
    },
    {
      "cell_type": "code",
      "execution_count": 148,
      "metadata": {},
      "outputs": [
        {
          "data": {
            "text/plain": [
              "<matplotlib.collections.PathCollection at 0x21f152f06a0>"
            ]
          },
          "execution_count": 148,
          "metadata": {},
          "output_type": "execute_result"
        },
        {
          "data": {
            "image/png": "[encoded data removed]",
            "text/plain": [
              "<Figure size 720x576 with 1 Axes>"
            ]
          },
          "metadata": {
            "needs_background": "light"
          },
          "output_type": "display_data"
        }
      ],
      "source": [
        "plt.figure(figsize=(10,8))\n",
        "\n",
        "plt.scatter(boston_housing_df.LSTAT, boston_housing_df['MEDV'])\n",
        "plt.scatter(boston_housing_df.LSTAT, boston_housing_df['MEDV(PRED)'])"
      ]
    },
    {
      "cell_type": "code",
      "execution_count": 169,
      "metadata": {},
      "outputs": [
        {
          "name": "stdout",
          "output_type": "stream",
          "text": [
            "<class 'numpy.ndarray'>\n"
          ]
        },
        {
          "data": {
            "text/plain": [
              "<matplotlib.collections.PathCollection at 0x21f153e6b80>"
            ]
          },
          "execution_count": 169,
          "metadata": {},
          "output_type": "execute_result"
        },
        {
          "name": "stderr",
          "output_type": "stream",
          "text": [
            "C:\\Users\\edu\\anaconda3\\lib\\site-packages\\matplotlib\\backends\\backend_agg.py:240: RuntimeWarning: Glyph 8722 missing from current font.\n",
            "  font.set_text(s, 0.0, flags=flags)\n",
            "C:\\Users\\edu\\anaconda3\\lib\\site-packages\\matplotlib\\backends\\backend_agg.py:203: RuntimeWarning: Glyph 8722 missing from current font.\n",
            "  font.set_text(s, 0, flags=flags)\n"
          ]
        },
        {
          "data": {
            "image/png": "[encoded data removed]",
            "text/plain": [
              "<Figure size 720x576 with 1 Axes>"
            ]
          },
          "metadata": {
            "needs_background": "light"
          },
          "output_type": "display_data"
        }
      ],
      "source": [
        "scaler = preprocessing.StandardScaler()\n",
        "scaler.fit(boston_housing_df.LSTAT.array.reshape(-1, 1))\n",
        "scaler.mean_, scaler.var_\n",
        "\n",
        "X_ = scaler.transform(boston_housing_df.LSTAT.array.reshape(-1, 1))\n",
        "print(type(X_))\n",
        "X_ = X_.flatten()\n",
        "X_.sort()\n",
        "plt.figure(figsize=(10, 8))\n",
        "plt.scatter(range(len(X_)), X_)"
      ]
    },
    {
      "cell_type": "markdown",
      "metadata": {
        "id": "AUmZnnsjMPSz"
      },
      "source": [
        "(3) mean square error를 구해보세요.\n",
        "\n"
      ]
    },
    {
      "cell_type": "code",
      "execution_count": 170,
      "metadata": {},
      "outputs": [],
      "source": [
        "from sklearn.metrics import mean_squared_error"
      ]
    },
    {
      "cell_type": "code",
      "execution_count": 201,
      "metadata": {},
      "outputs": [
        {
          "data": {
            "text/plain": [
              "504"
            ]
          },
          "execution_count": 201,
          "metadata": {},
          "output_type": "execute_result"
        }
      ],
      "source": [
        "len(boston_housing_df['MEDV'])-2"
      ]
    },
    {
      "cell_type": "code",
      "execution_count": 202,
      "metadata": {},
      "outputs": [
        {
          "name": "stdout",
          "output_type": "stream",
          "text": [
            "6.203464131426419 2.4906754367894703\n"
          ]
        }
      ],
      "source": [
        "mse = mean_squared_error(boston_housing_df['MEDV'], boston_housing_df['MEDV(PRED)'])#, squared=False)\n",
        "print(mse, np.sqrt(mse))"
      ]
    },
    {
      "cell_type": "markdown",
      "metadata": {
        "id": "AZMxUYizO9yh"
      },
      "source": [
        "\n",
        "(4) x 대신 x를 log transform한 값을 사용하여 (1) ~ (3)을 반복하고, 위의 mean squre error 값과 비교하세요."
      ]
    },
    {
      "cell_type": "code",
      "execution_count": 185,
      "metadata": {},
      "outputs": [],
      "source": [
        "boston_housing_df['LSTAT2'] = np.log(boston_housing_df.LSTAT.array)\n"
      ]
    },
    {
      "cell_type": "code",
      "execution_count": 187,
      "metadata": {},
      "outputs": [
        {
          "data": {
            "text/plain": [
              "(array([-12.48097215]), 52.124756547904965)"
            ]
          },
          "execution_count": 187,
          "metadata": {},
          "output_type": "execute_result"
        }
      ],
      "source": [
        "linear_reg_log = linear_model.LinearRegression()\n",
        "linear_reg_log.fit(boston_housing_df.LSTAT2.array.reshape(-1, 1), boston_housing_df.MEDV)\n",
        "linear_reg_log.coef_, linear_reg_log.intercept_"
      ]
    },
    {
      "cell_type": "code",
      "execution_count": 188,
      "metadata": {},
      "outputs": [],
      "source": [
        "boston_housing_df['MEDV(PRED_LOG)'] = linear_reg_log.predict(boston_housing_df.LSTAT2.array.reshape(-1, 1))"
      ]
    },
    {
      "cell_type": "code",
      "execution_count": 186,
      "metadata": {},
      "outputs": [
        {
          "data": {
            "text/html": [
              "<table class=\"simpletable\">\n",
              "<caption>OLS Regression Results</caption>\n",
              "<tr>\n",
              "  <th>Dep. Variable:</th>          <td>MEDV</td>       <th>  R-squared:         </th> <td>   0.665</td> \n",
              "</tr>\n",
              "<tr>\n",
              "  <th>Model:</th>                   <td>OLS</td>       <th>  Adj. R-squared:    </th> <td>   0.664</td> \n",
              "</tr>\n",
              "<tr>\n",
              "  <th>Method:</th>             <td>Least Squares</td>  <th>  F-statistic:       </th> <td>   1000.</td> \n",
              "</tr>\n",
              "<tr>\n",
              "  <th>Date:</th>             <td>Thu, 13 Jan 2022</td> <th>  Prob (F-statistic):</th> <td>9.28e-122</td>\n",
              "</tr>\n",
              "<tr>\n",
              "  <th>Time:</th>                 <td>22:39:43</td>     <th>  Log-Likelihood:    </th> <td> -1563.6</td> \n",
              "</tr>\n",
              "<tr>\n",
              "  <th>No. Observations:</th>      <td>   506</td>      <th>  AIC:               </th> <td>   3131.</td> \n",
              "</tr>\n",
              "<tr>\n",
              "  <th>Df Residuals:</th>          <td>   504</td>      <th>  BIC:               </th> <td>   3140.</td> \n",
              "</tr>\n",
              "<tr>\n",
              "  <th>Df Model:</th>              <td>     1</td>      <th>                     </th>     <td> </td>    \n",
              "</tr>\n",
              "<tr>\n",
              "  <th>Covariance Type:</th>      <td>nonrobust</td>    <th>                     </th>     <td> </td>    \n",
              "</tr>\n",
              "</table>\n",
              "<table class=\"simpletable\">\n",
              "<tr>\n",
              "      <td></td>         <th>coef</th>     <th>std err</th>      <th>t</th>      <th>P>|t|</th>  <th>[0.025</th>    <th>0.975]</th>  \n",
              "</tr>\n",
              "<tr>\n",
              "  <th>Intercept</th> <td>   52.1248</td> <td>    0.965</td> <td>   54.004</td> <td> 0.000</td> <td>   50.228</td> <td>   54.021</td>\n",
              "</tr>\n",
              "<tr>\n",
              "  <th>LSTAT2</th>    <td>  -12.4810</td> <td>    0.395</td> <td>  -31.627</td> <td> 0.000</td> <td>  -13.256</td> <td>  -11.706</td>\n",
              "</tr>\n",
              "</table>\n",
              "<table class=\"simpletable\">\n",
              "<tr>\n",
              "  <th>Omnibus:</th>       <td>126.181</td> <th>  Durbin-Watson:     </th> <td>   0.918</td>\n",
              "</tr>\n",
              "<tr>\n",
              "  <th>Prob(Omnibus):</th> <td> 0.000</td>  <th>  Jarque-Bera (JB):  </th> <td> 323.855</td>\n",
              "</tr>\n",
              "<tr>\n",
              "  <th>Skew:</th>          <td> 1.237</td>  <th>  Prob(JB):          </th> <td>4.74e-71</td>\n",
              "</tr>\n",
              "<tr>\n",
              "  <th>Kurtosis:</th>      <td> 6.039</td>  <th>  Cond. No.          </th> <td>    11.5</td>\n",
              "</tr>\n",
              "</table><br/><br/>Notes:<br/>[1] Standard Errors assume that the covariance matrix of the errors is correctly specified."
            ],
            "text/plain": [
              "<class 'statsmodels.iolib.summary.Summary'>\n",
              "\"\"\"\n",
              "                            OLS Regression Results                            \n",
              "==============================================================================\n",
              "Dep. Variable:                   MEDV   R-squared:                       0.665\n",
              "Model:                            OLS   Adj. R-squared:                  0.664\n",
              "Method:                 Least Squares   F-statistic:                     1000.\n",
              "Date:                Thu, 13 Jan 2022   Prob (F-statistic):          9.28e-122\n",
              "Time:                        22:39:43   Log-Likelihood:                -1563.6\n",
              "No. Observations:                 506   AIC:                             3131.\n",
              "Df Residuals:                     504   BIC:                             3140.\n",
              "Df Model:                           1                                         \n",
              "Covariance Type:            nonrobust                                         \n",
              "==============================================================================\n",
              "                 coef    std err          t      P>|t|      [0.025      0.975]\n",
              "------------------------------------------------------------------------------\n",
              "Intercept     52.1248      0.965     54.004      0.000      50.228      54.021\n",
              "LSTAT2       -12.4810      0.395    -31.627      0.000     -13.256     -11.706\n",
              "==============================================================================\n",
              "Omnibus:                      126.181   Durbin-Watson:                   0.918\n",
              "Prob(Omnibus):                  0.000   Jarque-Bera (JB):              323.855\n",
              "Skew:                           1.237   Prob(JB):                     4.74e-71\n",
              "Kurtosis:                       6.039   Cond. No.                         11.5\n",
              "==============================================================================\n",
              "\n",
              "Notes:\n",
              "[1] Standard Errors assume that the covariance matrix of the errors is correctly specified.\n",
              "\"\"\""
            ]
          },
          "execution_count": 186,
          "metadata": {},
          "output_type": "execute_result"
        }
      ],
      "source": [
        "osl_model = sm.OLS.from_formula('MEDV~LSTAT2', boston_housing_df)\n",
        "result = osl_model.fit()\n",
        "result.summary()"
      ]
    },
    {
      "cell_type": "code",
      "execution_count": 189,
      "metadata": {},
      "outputs": [
        {
          "data": {
            "text/plain": [
              "<matplotlib.collections.PathCollection at 0x21f1562c280>"
            ]
          },
          "execution_count": 189,
          "metadata": {},
          "output_type": "execute_result"
        },
        {
          "data": {
            "image/png": "[encoded data removed]",
            "text/plain": [
              "<Figure size 720x576 with 1 Axes>"
            ]
          },
          "metadata": {
            "needs_background": "light"
          },
          "output_type": "display_data"
        }
      ],
      "source": [
        "plt.figure(figsize=(10,8))\n",
        "\n",
        "plt.scatter(boston_housing_df.LSTAT2, boston_housing_df['MEDV'])\n",
        "plt.scatter(boston_housing_df.LSTAT2, boston_housing_df['MEDV(PRED_LOG)'])"
      ]
    },
    {
      "cell_type": "code",
      "execution_count": 192,
      "metadata": {},
      "outputs": [
        {
          "name": "stdout",
          "output_type": "stream",
          "text": [
            "28.285090984139796 0.010510618505916527\n"
          ]
        }
      ],
      "source": [
        "mse_log = mean_squared_error(boston_housing_df['MEDV'], boston_housing_df['MEDV(PRED_LOG)'])\n",
        "print(mse_log, np.sqrt(mse_log)/len(boston_housing_df['MEDV']-2))"
      ]
    },
    {
      "cell_type": "markdown",
      "metadata": {
        "id": "K2NDORQrPrZw"
      },
      "source": [
        "---"
      ]
    }
  ],
  "metadata": {
    "colab": {
      "collapsed_sections": [],
      "name": "Lab9-skel.ipynb",
      "provenance": []
    },
    "kernelspec": {
      "display_name": "Python 3",
      "name": "python3"
    },
    "language_info": {
      "codemirror_mode": {
        "name": "ipython",
        "version": 3
      },
      "file_extension": ".py",
      "mimetype": "text/x-python",
      "name": "python",
      "nbconvert_exporter": "python",
      "pygments_lexer": "ipython3",
      "version": "3.9.7"
    }
  },
  "nbformat": 4,
  "nbformat_minor": 0
}
